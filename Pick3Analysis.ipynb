{
 "cells": [
  {
   "cell_type": "code",
   "execution_count": 5,
   "metadata": {},
   "outputs": [],
   "source": [
    "import pandas as pd\n",
    "import matplotlib.pyplot as plt\n",
    "%matplotlib inline"
   ]
  },
  {
   "cell_type": "code",
   "execution_count": 2,
   "metadata": {},
   "outputs": [],
   "source": [
    "#https://data.ny.gov/Government-Finance/Lottery-Daily-Numbers-Win-4-Winning-Numbers-Beginn/hsys-3def\n",
    "df1 = pd.read_json(\"https://data.ny.gov/resource/hsys-3def.json\")"
   ]
  },
  {
   "cell_type": "code",
   "execution_count": 3,
   "metadata": {
    "scrolled": true
   },
   "outputs": [
    {
     "data": {
      "text/html": [
       "<div>\n",
       "<style scoped>\n",
       "    .dataframe tbody tr th:only-of-type {\n",
       "        vertical-align: middle;\n",
       "    }\n",
       "\n",
       "    .dataframe tbody tr th {\n",
       "        vertical-align: top;\n",
       "    }\n",
       "\n",
       "    .dataframe thead th {\n",
       "        text-align: right;\n",
       "    }\n",
       "</style>\n",
       "<table border=\"1\" class=\"dataframe\">\n",
       "  <thead>\n",
       "    <tr style=\"text-align: right;\">\n",
       "      <th></th>\n",
       "      <th>draw_date</th>\n",
       "      <th>midday_daily</th>\n",
       "      <th>evening_daily</th>\n",
       "      <th>midday_win_4</th>\n",
       "      <th>evening_win_4</th>\n",
       "      <th>midday_win_4_booster</th>\n",
       "      <th>evening_win_4_booster</th>\n",
       "      <th>midday_daily_booster</th>\n",
       "      <th>evening_daily_booster</th>\n",
       "      <th>midday_daily_sum</th>\n",
       "      <th>evening_daily_sum</th>\n",
       "      <th>midday_win_4_sum</th>\n",
       "      <th>evening_win_4_sum</th>\n",
       "    </tr>\n",
       "  </thead>\n",
       "  <tbody>\n",
       "    <tr>\n",
       "      <td>0</td>\n",
       "      <td>2021-01-04T00:00:00.000</td>\n",
       "      <td>730</td>\n",
       "      <td>506</td>\n",
       "      <td>3074</td>\n",
       "      <td>2162</td>\n",
       "      <td>NaN</td>\n",
       "      <td>NaN</td>\n",
       "      <td>NaN</td>\n",
       "      <td>NaN</td>\n",
       "      <td>NaN</td>\n",
       "      <td>NaN</td>\n",
       "      <td>NaN</td>\n",
       "      <td>NaN</td>\n",
       "    </tr>\n",
       "    <tr>\n",
       "      <td>1</td>\n",
       "      <td>2021-01-03T00:00:00.000</td>\n",
       "      <td>130</td>\n",
       "      <td>291</td>\n",
       "      <td>6566</td>\n",
       "      <td>1607</td>\n",
       "      <td>NaN</td>\n",
       "      <td>NaN</td>\n",
       "      <td>NaN</td>\n",
       "      <td>NaN</td>\n",
       "      <td>NaN</td>\n",
       "      <td>NaN</td>\n",
       "      <td>NaN</td>\n",
       "      <td>NaN</td>\n",
       "    </tr>\n",
       "    <tr>\n",
       "      <td>2</td>\n",
       "      <td>2021-01-02T00:00:00.000</td>\n",
       "      <td>232</td>\n",
       "      <td>990</td>\n",
       "      <td>2367</td>\n",
       "      <td>3353</td>\n",
       "      <td>NaN</td>\n",
       "      <td>NaN</td>\n",
       "      <td>NaN</td>\n",
       "      <td>NaN</td>\n",
       "      <td>NaN</td>\n",
       "      <td>NaN</td>\n",
       "      <td>NaN</td>\n",
       "      <td>NaN</td>\n",
       "    </tr>\n",
       "    <tr>\n",
       "      <td>3</td>\n",
       "      <td>2021-01-01T00:00:00.000</td>\n",
       "      <td>839</td>\n",
       "      <td>716</td>\n",
       "      <td>210</td>\n",
       "      <td>4556</td>\n",
       "      <td>NaN</td>\n",
       "      <td>NaN</td>\n",
       "      <td>NaN</td>\n",
       "      <td>NaN</td>\n",
       "      <td>NaN</td>\n",
       "      <td>NaN</td>\n",
       "      <td>NaN</td>\n",
       "      <td>NaN</td>\n",
       "    </tr>\n",
       "    <tr>\n",
       "      <td>4</td>\n",
       "      <td>2020-12-31T00:00:00.000</td>\n",
       "      <td>256</td>\n",
       "      <td>99</td>\n",
       "      <td>1951</td>\n",
       "      <td>3454</td>\n",
       "      <td>NaN</td>\n",
       "      <td>NaN</td>\n",
       "      <td>NaN</td>\n",
       "      <td>NaN</td>\n",
       "      <td>NaN</td>\n",
       "      <td>NaN</td>\n",
       "      <td>NaN</td>\n",
       "      <td>NaN</td>\n",
       "    </tr>\n",
       "    <tr>\n",
       "      <td>...</td>\n",
       "      <td>...</td>\n",
       "      <td>...</td>\n",
       "      <td>...</td>\n",
       "      <td>...</td>\n",
       "      <td>...</td>\n",
       "      <td>...</td>\n",
       "      <td>...</td>\n",
       "      <td>...</td>\n",
       "      <td>...</td>\n",
       "      <td>...</td>\n",
       "      <td>...</td>\n",
       "      <td>...</td>\n",
       "      <td>...</td>\n",
       "    </tr>\n",
       "    <tr>\n",
       "      <td>995</td>\n",
       "      <td>2018-04-09T00:00:00.000</td>\n",
       "      <td>485</td>\n",
       "      <td>464</td>\n",
       "      <td>244</td>\n",
       "      <td>9145</td>\n",
       "      <td>NaN</td>\n",
       "      <td>NaN</td>\n",
       "      <td>NaN</td>\n",
       "      <td>NaN</td>\n",
       "      <td>17.0</td>\n",
       "      <td>14.0</td>\n",
       "      <td>10.0</td>\n",
       "      <td>19.0</td>\n",
       "    </tr>\n",
       "    <tr>\n",
       "      <td>996</td>\n",
       "      <td>2018-04-08T00:00:00.000</td>\n",
       "      <td>978</td>\n",
       "      <td>824</td>\n",
       "      <td>1368</td>\n",
       "      <td>3597</td>\n",
       "      <td>NaN</td>\n",
       "      <td>NaN</td>\n",
       "      <td>NaN</td>\n",
       "      <td>NaN</td>\n",
       "      <td>24.0</td>\n",
       "      <td>14.0</td>\n",
       "      <td>18.0</td>\n",
       "      <td>24.0</td>\n",
       "    </tr>\n",
       "    <tr>\n",
       "      <td>997</td>\n",
       "      <td>2018-04-07T00:00:00.000</td>\n",
       "      <td>345</td>\n",
       "      <td>638</td>\n",
       "      <td>2824</td>\n",
       "      <td>3653</td>\n",
       "      <td>NaN</td>\n",
       "      <td>NaN</td>\n",
       "      <td>NaN</td>\n",
       "      <td>NaN</td>\n",
       "      <td>12.0</td>\n",
       "      <td>17.0</td>\n",
       "      <td>16.0</td>\n",
       "      <td>17.0</td>\n",
       "    </tr>\n",
       "    <tr>\n",
       "      <td>998</td>\n",
       "      <td>2018-04-06T00:00:00.000</td>\n",
       "      <td>956</td>\n",
       "      <td>688</td>\n",
       "      <td>1072</td>\n",
       "      <td>3831</td>\n",
       "      <td>NaN</td>\n",
       "      <td>NaN</td>\n",
       "      <td>NaN</td>\n",
       "      <td>NaN</td>\n",
       "      <td>20.0</td>\n",
       "      <td>22.0</td>\n",
       "      <td>10.0</td>\n",
       "      <td>15.0</td>\n",
       "    </tr>\n",
       "    <tr>\n",
       "      <td>999</td>\n",
       "      <td>2018-04-05T00:00:00.000</td>\n",
       "      <td>756</td>\n",
       "      <td>756</td>\n",
       "      <td>3467</td>\n",
       "      <td>7616</td>\n",
       "      <td>NaN</td>\n",
       "      <td>NaN</td>\n",
       "      <td>NaN</td>\n",
       "      <td>NaN</td>\n",
       "      <td>18.0</td>\n",
       "      <td>18.0</td>\n",
       "      <td>20.0</td>\n",
       "      <td>20.0</td>\n",
       "    </tr>\n",
       "  </tbody>\n",
       "</table>\n",
       "<p>1000 rows × 13 columns</p>\n",
       "</div>"
      ],
      "text/plain": [
       "                   draw_date  midday_daily  evening_daily  midday_win_4  \\\n",
       "0    2021-01-04T00:00:00.000           730            506          3074   \n",
       "1    2021-01-03T00:00:00.000           130            291          6566   \n",
       "2    2021-01-02T00:00:00.000           232            990          2367   \n",
       "3    2021-01-01T00:00:00.000           839            716           210   \n",
       "4    2020-12-31T00:00:00.000           256             99          1951   \n",
       "..                       ...           ...            ...           ...   \n",
       "995  2018-04-09T00:00:00.000           485            464           244   \n",
       "996  2018-04-08T00:00:00.000           978            824          1368   \n",
       "997  2018-04-07T00:00:00.000           345            638          2824   \n",
       "998  2018-04-06T00:00:00.000           956            688          1072   \n",
       "999  2018-04-05T00:00:00.000           756            756          3467   \n",
       "\n",
       "     evening_win_4  midday_win_4_booster  evening_win_4_booster  \\\n",
       "0             2162                   NaN                    NaN   \n",
       "1             1607                   NaN                    NaN   \n",
       "2             3353                   NaN                    NaN   \n",
       "3             4556                   NaN                    NaN   \n",
       "4             3454                   NaN                    NaN   \n",
       "..             ...                   ...                    ...   \n",
       "995           9145                   NaN                    NaN   \n",
       "996           3597                   NaN                    NaN   \n",
       "997           3653                   NaN                    NaN   \n",
       "998           3831                   NaN                    NaN   \n",
       "999           7616                   NaN                    NaN   \n",
       "\n",
       "     midday_daily_booster  evening_daily_booster  midday_daily_sum  \\\n",
       "0                     NaN                    NaN               NaN   \n",
       "1                     NaN                    NaN               NaN   \n",
       "2                     NaN                    NaN               NaN   \n",
       "3                     NaN                    NaN               NaN   \n",
       "4                     NaN                    NaN               NaN   \n",
       "..                    ...                    ...               ...   \n",
       "995                   NaN                    NaN              17.0   \n",
       "996                   NaN                    NaN              24.0   \n",
       "997                   NaN                    NaN              12.0   \n",
       "998                   NaN                    NaN              20.0   \n",
       "999                   NaN                    NaN              18.0   \n",
       "\n",
       "     evening_daily_sum  midday_win_4_sum  evening_win_4_sum  \n",
       "0                  NaN               NaN                NaN  \n",
       "1                  NaN               NaN                NaN  \n",
       "2                  NaN               NaN                NaN  \n",
       "3                  NaN               NaN                NaN  \n",
       "4                  NaN               NaN                NaN  \n",
       "..                 ...               ...                ...  \n",
       "995               14.0              10.0               19.0  \n",
       "996               14.0              18.0               24.0  \n",
       "997               17.0              16.0               17.0  \n",
       "998               22.0              10.0               15.0  \n",
       "999               18.0              20.0               20.0  \n",
       "\n",
       "[1000 rows x 13 columns]"
      ]
     },
     "execution_count": 3,
     "metadata": {},
     "output_type": "execute_result"
    }
   ],
   "source": [
    "df1"
   ]
  },
  {
   "cell_type": "code",
   "execution_count": 11,
   "metadata": {
    "scrolled": true
   },
   "outputs": [
    {
     "data": {
      "text/plain": [
       "174    7\n",
       "232    5\n",
       "261    5\n",
       "40     5\n",
       "736    5\n",
       "819    4\n",
       "725    4\n",
       "218    4\n",
       "257    4\n",
       "182    4\n",
       "926    4\n",
       "834    4\n",
       "318    4\n",
       "333    4\n",
       "350    4\n",
       "442    4\n",
       "441    4\n",
       "705    4\n",
       "31     4\n",
       "603    4\n",
       "695    4\n",
       "683    4\n",
       "276    3\n",
       "832    3\n",
       "302    3\n",
       "Name: midday_daily, dtype: int64"
      ]
     },
     "execution_count": 11,
     "metadata": {},
     "output_type": "execute_result"
    }
   ],
   "source": [
    "df1[\"midday_daily\"].value_counts().head(25)"
   ]
  },
  {
   "cell_type": "code",
   "execution_count": 21,
   "metadata": {
    "scrolled": true
   },
   "outputs": [
    {
     "data": {
      "text/plain": [
       "0      730\n",
       "1      130\n",
       "2      232\n",
       "3      839\n",
       "4      256\n",
       "      ... \n",
       "995    485\n",
       "996    978\n",
       "997    345\n",
       "998    956\n",
       "999    756\n",
       "Name: midday_daily, Length: 1000, dtype: object"
      ]
     },
     "execution_count": 21,
     "metadata": {},
     "output_type": "execute_result"
    }
   ],
   "source": [
    "#bedford\n",
    "ser1 = df1[\"midday_daily\"].apply(str)\n",
    "ser1"
   ]
  },
  {
   "cell_type": "code",
   "execution_count": 22,
   "metadata": {},
   "outputs": [],
   "source": [
    "#add zero to numbers less than 100\n",
    "ser1[ser1.apply(len) < 3] = '0' + ser1[ser1.apply(len) < 3]"
   ]
  },
  {
   "cell_type": "code",
   "execution_count": 23,
   "metadata": {},
   "outputs": [
    {
     "data": {
      "text/plain": [
       "0      730\n",
       "1      130\n",
       "2      232\n",
       "3      839\n",
       "4      256\n",
       "      ... \n",
       "995    485\n",
       "996    978\n",
       "997    345\n",
       "998    956\n",
       "999    756\n",
       "Name: midday_daily, Length: 1000, dtype: object"
      ]
     },
     "execution_count": 23,
     "metadata": {},
     "output_type": "execute_result"
    }
   ],
   "source": [
    "ser1"
   ]
  },
  {
   "cell_type": "code",
   "execution_count": 24,
   "metadata": {},
   "outputs": [
    {
     "data": {
      "text/plain": [
       "44     06\n",
       "328    07\n",
       "376    05\n",
       "429    03\n",
       "498    08\n",
       "623    02\n",
       "688    09\n",
       "911    02\n",
       "966    07\n",
       "Name: midday_daily, dtype: object"
      ]
     },
     "execution_count": 24,
     "metadata": {},
     "output_type": "execute_result"
    }
   ],
   "source": [
    "ser1[ser1.apply(len) < 3]"
   ]
  },
  {
   "cell_type": "code",
   "execution_count": 25,
   "metadata": {},
   "outputs": [],
   "source": [
    "#add another zero\n",
    "ser1[ser1.apply(len) < 3] = '0' + ser1[ser1.apply(len) < 3]"
   ]
  },
  {
   "cell_type": "code",
   "execution_count": 26,
   "metadata": {},
   "outputs": [
    {
     "data": {
      "text/plain": [
       "0      730\n",
       "1      130\n",
       "2      232\n",
       "3      839\n",
       "4      256\n",
       "      ... \n",
       "995    485\n",
       "996    978\n",
       "997    345\n",
       "998    956\n",
       "999    756\n",
       "Name: midday_daily, Length: 1000, dtype: object"
      ]
     },
     "execution_count": 26,
     "metadata": {},
     "output_type": "execute_result"
    }
   ],
   "source": [
    "ser1"
   ]
  },
  {
   "cell_type": "code",
   "execution_count": 30,
   "metadata": {},
   "outputs": [
    {
     "data": {
      "text/plain": [
       "2    113\n",
       "4    111\n",
       "5    104\n",
       "0    104\n",
       "7    102\n",
       "1     99\n",
       "9     98\n",
       "3     94\n",
       "6     88\n",
       "8     87\n",
       "Name: midday_daily, dtype: int64"
      ]
     },
     "execution_count": 30,
     "metadata": {},
     "output_type": "execute_result"
    }
   ],
   "source": [
    "ser1.str.slice(0,1).value_counts()"
   ]
  },
  {
   "cell_type": "code",
   "execution_count": 35,
   "metadata": {},
   "outputs": [
    {
     "data": {
      "text/plain": [
       "<matplotlib.axes._subplots.AxesSubplot at 0x13af2de1dc8>"
      ]
     },
     "execution_count": 35,
     "metadata": {},
     "output_type": "execute_result"
    },
    {
     "data": {
      "image/png": "[encoded data removed]",
      "text/plain": [
       "<Figure size 432x288 with 1 Axes>"
      ]
     },
     "metadata": {
      "needs_background": "light"
     },
     "output_type": "display_data"
    }
   ],
   "source": [
    "#DOES NOT FOLLOW BEDFORDS LAW\n",
    "ser1.str.slice(0,1).value_counts().sort_index().plot(kind=\"bar\",rot=0)"
   ]
  },
  {
   "cell_type": "code",
   "execution_count": 38,
   "metadata": {
    "scrolled": true
   },
   "outputs": [
    {
     "data": {
      "text/plain": [
       "174    7\n",
       "736    5\n",
       "040    5\n",
       "261    5\n",
       "232    5\n",
       "603    4\n",
       "834    4\n",
       "031    4\n",
       "218    4\n",
       "705    4\n",
       "695    4\n",
       "318    4\n",
       "926    4\n",
       "182    4\n",
       "819    4\n",
       "442    4\n",
       "333    4\n",
       "683    4\n",
       "441    4\n",
       "257    4\n",
       "Name: midday_daily, dtype: int64"
      ]
     },
     "execution_count": 38,
     "metadata": {},
     "output_type": "execute_result"
    }
   ],
   "source": [
    "ser1.value_counts().head(20)"
   ]
  },
  {
   "cell_type": "code",
   "execution_count": 57,
   "metadata": {},
   "outputs": [
    {
     "data": {
      "text/plain": [
       "704    1\n",
       "798    1\n",
       "568    1\n",
       "896    1\n",
       "238    1\n",
       "      ..\n",
       "022    1\n",
       "231    1\n",
       "112    1\n",
       "846    1\n",
       "809    1\n",
       "Name: midday_daily, Length: 351, dtype: int64"
      ]
     },
     "execution_count": 57,
     "metadata": {},
     "output_type": "execute_result"
    }
   ],
   "source": [
    "#351/1000 appear only once\n",
    "ser1.value_counts().tail(351)"
   ]
  },
  {
   "cell_type": "code",
   "execution_count": 62,
   "metadata": {},
   "outputs": [
    {
     "data": {
      "text/plain": [
       "174    7\n",
       "736    5\n",
       "040    5\n",
       "261    5\n",
       "232    5\n",
       "      ..\n",
       "022    1\n",
       "231    1\n",
       "112    1\n",
       "846    1\n",
       "809    1\n",
       "Name: midday_daily, Length: 625, dtype: int64"
      ]
     },
     "execution_count": 62,
     "metadata": {},
     "output_type": "execute_result"
    }
   ],
   "source": [
    "ser1.value_counts()"
   ]
  },
  {
   "cell_type": "code",
   "execution_count": 63,
   "metadata": {},
   "outputs": [
    {
     "data": {
      "text/plain": [
       "1    351\n",
       "2    202\n",
       "3     50\n",
       "4     17\n",
       "5      4\n",
       "7      1\n",
       "Name: midday_daily, dtype: int64"
      ]
     },
     "execution_count": 63,
     "metadata": {},
     "output_type": "execute_result"
    }
   ],
   "source": [
    "#instead of groupby\n",
    "ser1.value_counts().value_counts()"
   ]
  },
  {
   "cell_type": "code",
   "execution_count": 68,
   "metadata": {},
   "outputs": [
    {
     "data": {
      "text/plain": [
       "<matplotlib.axes._subplots.AxesSubplot at 0x13aed296408>"
      ]
     },
     "execution_count": 68,
     "metadata": {},
     "output_type": "execute_result"
    },
    {
     "data": {
      "image/png": "[encoded data removed]",
      "text/plain": [
       "<Figure size 432x288 with 1 Axes>"
      ]
     },
     "metadata": {
      "needs_background": "light"
     },
     "output_type": "display_data"
    }
   ],
   "source": [
    "ser1.value_counts().value_counts().plot(kind=\"bar\",rot=0)"
   ]
  },
  {
   "cell_type": "markdown",
   "metadata": {},
   "source": [
    "### Analysis by each number"
   ]
  },
  {
   "cell_type": "code",
   "execution_count": 69,
   "metadata": {},
   "outputs": [],
   "source": [
    "num1 = ser1.str.slice(0,1)\n",
    "num2 = ser1.str.slice(1,2)\n",
    "num3 = ser1.str.slice(2)"
   ]
  },
  {
   "cell_type": "code",
   "execution_count": 70,
   "metadata": {},
   "outputs": [
    {
     "data": {
      "text/plain": [
       "2    113\n",
       "4    111\n",
       "5    104\n",
       "0    104\n",
       "7    102\n",
       "1     99\n",
       "9     98\n",
       "3     94\n",
       "6     88\n",
       "8     87\n",
       "Name: midday_daily, dtype: int64"
      ]
     },
     "execution_count": 70,
     "metadata": {},
     "output_type": "execute_result"
    }
   ],
   "source": [
    "num1.value_counts()"
   ]
  },
  {
   "cell_type": "code",
   "execution_count": 75,
   "metadata": {},
   "outputs": [
    {
     "data": {
      "text/plain": [
       "<matplotlib.axes._subplots.AxesSubplot at 0x13af3229848>"
      ]
     },
     "execution_count": 75,
     "metadata": {},
     "output_type": "execute_result"
    },
    {
     "data": {
      "image/png": "[encoded data removed]",
      "text/plain": [
       "<Figure size 432x288 with 1 Axes>"
      ]
     },
     "metadata": {
      "needs_background": "light"
     },
     "output_type": "display_data"
    }
   ],
   "source": [
    "num1.value_counts().sort_index().plot(kind=\"bar\",rot=0)"
   ]
  },
  {
   "cell_type": "code",
   "execution_count": 71,
   "metadata": {},
   "outputs": [
    {
     "data": {
      "text/plain": [
       "3    108\n",
       "4    105\n",
       "2    104\n",
       "8    104\n",
       "5    100\n",
       "0    100\n",
       "9    100\n",
       "1     98\n",
       "6     91\n",
       "7     90\n",
       "Name: midday_daily, dtype: int64"
      ]
     },
     "execution_count": 71,
     "metadata": {},
     "output_type": "execute_result"
    }
   ],
   "source": [
    "num2.value_counts()"
   ]
  },
  {
   "cell_type": "code",
   "execution_count": 76,
   "metadata": {},
   "outputs": [
    {
     "data": {
      "text/plain": [
       "<matplotlib.axes._subplots.AxesSubplot at 0x13af32b4d08>"
      ]
     },
     "execution_count": 76,
     "metadata": {},
     "output_type": "execute_result"
    },
    {
     "data": {
      "image/png": "[encoded data removed]",
      "text/plain": [
       "<Figure size 432x288 with 1 Axes>"
      ]
     },
     "metadata": {
      "needs_background": "light"
     },
     "output_type": "display_data"
    }
   ],
   "source": [
    "num2.value_counts().sort_index().plot(kind=\"bar\",rot=0)"
   ]
  },
  {
   "cell_type": "code",
   "execution_count": 72,
   "metadata": {},
   "outputs": [
    {
     "data": {
      "text/plain": [
       "1    110\n",
       "4    107\n",
       "2    106\n",
       "5    106\n",
       "7     99\n",
       "8     98\n",
       "6     97\n",
       "3     97\n",
       "9     96\n",
       "0     84\n",
       "Name: midday_daily, dtype: int64"
      ]
     },
     "execution_count": 72,
     "metadata": {},
     "output_type": "execute_result"
    }
   ],
   "source": [
    "num3.value_counts()"
   ]
  },
  {
   "cell_type": "code",
   "execution_count": 77,
   "metadata": {},
   "outputs": [
    {
     "data": {
      "text/plain": [
       "<matplotlib.axes._subplots.AxesSubplot at 0x13af329fb88>"
      ]
     },
     "execution_count": 77,
     "metadata": {},
     "output_type": "execute_result"
    },
    {
     "data": {
      "image/png": "[encoded data removed]",
      "text/plain": [
       "<Figure size 432x288 with 1 Axes>"
      ]
     },
     "metadata": {
      "needs_background": "light"
     },
     "output_type": "display_data"
    }
   ],
   "source": [
    "num3.value_counts().sort_index().plot(kind=\"bar\",rot=0)"
   ]
  },
  {
   "cell_type": "code",
   "execution_count": null,
   "metadata": {},
   "outputs": [],
   "source": []
  }
 ],
 "metadata": {
  "kernelspec": {
   "display_name": "Python 3 (ipykernel)",
   "language": "python",
   "name": "python3"
  },
  "language_info": {
   "codemirror_mode": {
    "name": "ipython",
    "version": 3
   },
   "file_extension": ".py",
   "mimetype": "text/x-python",
   "name": "python",
   "nbconvert_exporter": "python",
   "pygments_lexer": "ipython3",
   "version": "3.9.15"
  }
 },
 "nbformat": 4,
 "nbformat_minor": 2
}
